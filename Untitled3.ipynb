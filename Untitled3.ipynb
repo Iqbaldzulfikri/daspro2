{
 "cells": [
  {
   "cell_type": "code",
   "execution_count": 1,
   "id": "eee19142-5be5-4713-9794-a2c6251cfff2",
   "metadata": {},
   "outputs": [
    {
     "name": "stdin",
     "output_type": "stream",
     "text": [
      "Masukkan nama Anda:  Iqbal\n",
      "Masukkan umur Anda:  19\n",
      "Masukkan alamat Anda:  Kp.Cisereh Kota Sukabumi\n",
      "Masukkan pekerjaan Anda:  Mahasiswa\n"
     ]
    },
    {
     "name": "stdout",
     "output_type": "stream",
     "text": [
      "\n",
      "Biodata:\n",
      "Nama: Iqbal\n",
      "Usia: 19 tahun\n",
      "Alamat: Kp.Cisereh Kota Sukabumi\n",
      "Pekerjaan: Mahasiswa\n",
      "\n"
     ]
    }
   ],
   "source": [
    "nama = input(\"Masukkan nama Anda: \")\n",
    "umur = input(\"Masukkan umur Anda: \")\n",
    "alamat = input(\"Masukkan alamat Anda: \")\n",
    "pekerjaan = input(\"Masukkan pekerjaan Anda: \")\n",
    "\n",
    "biodata = \"\"\"\n",
    "Biodata:\n",
    "Nama: {}\n",
    "Usia: {} tahun\n",
    "Alamat: {}\n",
    "Pekerjaan: {}\n",
    "\"\"\".format(nama, umur, alamat, pekerjaan)\n",
    "\n",
    "print(biodata)"
   ]
  },
  {
   "cell_type": "code",
   "execution_count": 2,
   "id": "1dce2339-6684-40e2-a403-46e236602626",
   "metadata": {},
   "outputs": [
    {
     "name": "stdout",
     "output_type": "stream",
     "text": [
      "a. putra nusa\n",
      "b. NIVERSITAS NSA PTRA SKABMI\n",
      "c. SUKABUMI NUSA PUTRA UNIVERSITAS\n",
      "d. UNPS\n",
      "e. TAS SAPU BUMI\n"
     ]
    }
   ],
   "source": [
    "kalimat = \"UNIVERSITAS NUSA PUTRA SUKABUMI\"\n",
    "\n",
    "if kalimat == \"UNIVERSITAS NUSA PUTRA SUKABUMI\":\n",
    "    splitAndLower = kalimat.split(\" \")\n",
    "    splitAndLower = splitAndLower[1:3]\n",
    "    splitAndLower[0],splitAndLower[1] = splitAndLower[1],splitAndLower[0]\n",
    "    splitAndLower = \" \".join(splitAndLower)\n",
    "    splitAndLower = splitAndLower.lower()\n",
    "    #########################################################\n",
    "    replaceU = kalimat.replace(\"U\", \"\")\n",
    "    #########################################################\n",
    "    threeToOne = kalimat.split(\" \")\n",
    "    threeToOne[0],threeToOne[3] = threeToOne[3],threeToOne[0]\n",
    "    threeToOne = \" \".join(threeToOne)\n",
    "    #########################################################\n",
    "    firstLetter = kalimat.split(\" \")\n",
    "    firstLetter = firstLetter[0][0], firstLetter[1][0], firstLetter[2][0], firstLetter[3][0]\n",
    "    firstLetter = \"\".join(firstLetter)\n",
    "    #########################################################\n",
    "    splice = kalimat[8:11], kalimat[14:19], kalimat[27:31]\n",
    "    splice = splice[0], splice[1].replace(\" \", \"\"), splice[2]\n",
    "    splice = \" \".join(splice)\n",
    "    #########################################################\n",
    "    print(\"a.\",splitAndLower)\n",
    "    print(\"b.\",replaceU)\n",
    "    print(\"c.\",threeToOne)\n",
    "    print(\"d.\",firstLetter)\n",
    "    print(\"e.\",splice)\n"
   ]
  },
  {
   "cell_type": "code",
   "execution_count": null,
   "id": "f8978d21-3b80-48f1-a32d-4f8fde213c1f",
   "metadata": {},
   "outputs": [],
   "source": []
  }
 ],
 "metadata": {
  "kernelspec": {
   "display_name": "Python 3 (ipykernel)",
   "language": "python",
   "name": "python3"
  },
  "language_info": {
   "codemirror_mode": {
    "name": "ipython",
    "version": 3
   },
   "file_extension": ".py",
   "mimetype": "text/x-python",
   "name": "python",
   "nbconvert_exporter": "python",
   "pygments_lexer": "ipython3",
   "version": "3.13.2"
  }
 },
 "nbformat": 4,
 "nbformat_minor": 5
}
